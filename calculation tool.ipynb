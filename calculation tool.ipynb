{
 "cells": [
  {
   "cell_type": "code",
   "execution_count": null,
   "id": "32b3fdce",
   "metadata": {},
   "outputs": [],
   "source": [
    "# Import gofer_auth.py - han~dles authentication (token will remain for a limited time)\n",
    "import gofer_auth"
   ]
  },
  {
   "cell_type": "code",
   "execution_count": null,
   "id": "ecdd2f05",
   "metadata": {},
   "outputs": [],
   "source": [
    "# Imports for first test\n",
    "import requests\n",
    "import time\n",
    "import sys\n",
    "\n",
    "from urllib.parse import urlencode\n",
    "from gofer_auth import AcquireNewAccessTokenInteractiveFlow as get_token\n",
    "API_LOCATION = \"https://api.gofer.oasys-software.com\""
   ]
  },
  {
   "cell_type": "code",
   "execution_count": 3,
   "id": "a1a8e422",
   "metadata": {},
   "outputs": [],
   "source": [
    "import matplotlib.pyplot as plt\n",
    "import pandas as pd\n",
    "import math"
   ]
  },
  {
   "cell_type": "code",
   "execution_count": null,
   "id": "b60ad9ad",
   "metadata": {},
   "outputs": [],
   "source": [
    "# Get token, define high level GET, PUT and DEF functions for later use\n",
    "auth_token = get_token() # using function from gofer_auth\n",
    "\n",
    "def get(route):\n",
    "    url = f\"{API_LOCATION}/{route}\"\n",
    "    headers = {'authorization': 'Bearer ' + auth_token}\n",
    "    res = requests.get(url, headers=headers)\n",
    "    if res.status_code == 200:\n",
    "        return res.json()\n",
    "    else:\n",
    "        return res.text\n",
    "\n",
    "def put(route,  data = {}):\n",
    "    url = f\"{API_LOCATION}/{route}\"\n",
    "    headers = {'Authorization': 'Bearer ' + auth_token, \"Content-Type\": \"application/json\" }\n",
    "    res = requests.put(url, headers=headers, json=data)\n",
    "    return res\n",
    "\n",
    "def post(route,  data = {}):\n",
    "    url = f\"{API_LOCATION}/{route}\"\n",
    "    headers = {'Authorization': 'Bearer ' + auth_token, \"Content-Type\": \"application/json\" }\n",
    "    res = requests.post(url, headers=headers, json=data).json()\n",
    "    return res"
   ]
  },
  {
   "cell_type": "code",
   "execution_count": null,
   "id": "27e63ca9",
   "metadata": {},
   "outputs": [],
   "source": [
    "# Function to get a list of my models, use to find ID of target model\n",
    "def get_model_IDs():\n",
    "    try:\n",
    "        model_list = get(\"v1/models/\")\n",
    "        assert len(model_list) > 0\n",
    "    except AssertionError:\n",
    "        return 'No models found'\n",
    "    else:\n",
    "        return model_list\n",
    "\n",
    "my_model_list = get_model_IDs() \n",
    "if my_model_list == 'No models found':\n",
    "    print(my_model_list)\n",
    "else:\n",
    "    print(*my_model_list, sep = '\\n\\n')"
   ]
  },
  {
   "cell_type": "code",
   "execution_count": null,
   "id": "481b57d1",
   "metadata": {},
   "outputs": [],
   "source": [
    "# Copy the model ID from above\n",
    "orig_ID = \"<ENTER MODEL ID>\""
   ]
  },
  {
   "cell_type": "code",
   "execution_count": null,
   "id": "fbdac975",
   "metadata": {},
   "outputs": [],
   "source": [
    "# Duplicate the model. Only the copy will be modified\n",
    "orig_model = get(\"v1/models/\" + orig_ID) # Get the target model\n",
    "mod_model = post(\"v1/models\", orig_model) # Upload it to create a copy with new ID"
   ]
  },
  {
   "cell_type": "code",
   "execution_count": null,
   "id": "c36fad6e",
   "metadata": {},
   "outputs": [],
   "source": [
    "# Print the list of models again\n",
    "new_model_list = get_model_IDs()\n",
    "if new_model_list == 'No models found':\n",
    "    print(new_model_list)\n",
    "else:\n",
    "    print(*new_model_list, sep = '\\n\\n')"
   ]
  },
  {
   "cell_type": "code",
   "execution_count": null,
   "id": "03bad82e",
   "metadata": {},
   "outputs": [],
   "source": [
    "# Copy the new model ID from above\n",
    "mod_ID = \"<ENTER MODEL ID>\""
   ]
  },
  {
   "cell_type": "code",
   "execution_count": null,
   "id": "02ce7399",
   "metadata": {},
   "outputs": [],
   "source": [
    "# Function to create a path to model's analysis results\n",
    "def getAnalysisPath(modelID):\n",
    "    return \"v1/models/\" + modelID + \"/analysis\""
   ]
  },
  {
   "cell_type": "code",
   "execution_count": null,
   "id": "c956bb7e",
   "metadata": {},
   "outputs": [],
   "source": [
    "# Function to get analysis results\n",
    "def waitForAnalysis(modelID):\n",
    "    # Send for analysis\n",
    "    model_status = post(getAnalysisPath(modelID))\n",
    "    \n",
    "    # Poll the Analysis Status until it succeeds\n",
    "    allDone = False\n",
    "    failed = False\n",
    "    while not allDone and not failed:\n",
    "        time.sleep(2)\n",
    "        allDone = True\n",
    "        model_status = get(getAnalysisPath(modelID))\n",
    "        for _, status in enumerate(model_status):\n",
    "            status = status['analysisStatus']\n",
    "            if status in [1,2,6]:\n",
    "                allDone = False\n",
    "            if status in [4,5,8]:\n",
    "                failed = True\n",
    "    return model_status \n",
    "\n",
    "orig_analysis = waitForAnalysis(orig_ID)\n",
    "mod_analysis = waitForAnalysis(mod_ID)"
   ]
  },
  {
   "cell_type": "code",
   "execution_count": null,
   "id": "05fe53f1",
   "metadata": {},
   "outputs": [],
   "source": [
    "# Get the number of stages in the models\n",
    "num_stages = len(orig_analysis)\n",
    "print(num_stages)"
   ]
  },
  {
   "cell_type": "code",
   "execution_count": null,
   "id": "448c2377",
   "metadata": {},
   "outputs": [],
   "source": [
    "# Get nodes for the last stage in the original model\n",
    "last_stage_orig_ID = orig_analysis[4]['id'] # last stage is at index 4\n",
    "last_results_orig = get(\"v1/models/\" + orig_ID + \"/stages/\" + last_stage_orig_ID + \"/results?type=default\")['nodes'] # get the nodes\n",
    "print(last_results_orig[0]) # print for the 0th node"
   ]
  },
  {
   "cell_type": "code",
   "execution_count": null,
   "id": "2417c7bb",
   "metadata": {},
   "outputs": [],
   "source": [
    "# Get a list of all structures in the model\n",
    "orig_structures = get(\"v1/models/\" + orig_ID)['structures']\n",
    "print(*orig_structures, sep = '\\n\\n')"
   ]
  },
  {
   "cell_type": "code",
   "execution_count": null,
   "id": "82b23e13",
   "metadata": {},
   "outputs": [],
   "source": [
    "# Copy ID of the structure you want to use from above\n",
    "str_ID = \"<ENTER STRUCTURE ID>\""
   ]
  },
  {
   "cell_type": "code",
   "execution_count": null,
   "id": "9031b59a",
   "metadata": {},
   "outputs": [],
   "source": [
    "# Function for getting index of an element in a list\n",
    "def get_index(modelID, elemID, list_name):\n",
    "    l = get(\"v1/models/\" + modelID)[list_name] # get the list from model\n",
    "    for e in l: # find the element\n",
    "        if e['id'] == elemID:\n",
    "            index = l.index(e) # get the index\n",
    "            return index"
   ]
  },
  {
   "cell_type": "code",
   "execution_count": null,
   "id": "c8ea48ef",
   "metadata": {},
   "outputs": [],
   "source": [
    "# Get and print the value for the structure - now it is the same in both models\n",
    "str_index = get_index(mod_ID, str_ID, 'structures') # get index of the structure\n",
    "\n",
    "str_youngsModulusE_before = orig_structures[str_index]['youngsModulusE'] # get the value\n",
    "print(str_youngsModulusE_before)"
   ]
  },
  {
   "cell_type": "code",
   "execution_count": null,
   "id": "0749dd12",
   "metadata": {},
   "outputs": [],
   "source": [
    "# Change the value of youngsModulusE in the structure from 40MPa to 20MPa in duplicate model\n",
    "cmd = {\"jsonPath\" : '$.structures.' + str(str_index) + '.youngsModulusE', \"value\" : 20000} # create input for PUT function\n",
    "update_param = put(\"v1/models/\" + mod_ID, cmd) # update the parameter value\n",
    "\n",
    "if update_param.status_code == 200:\n",
    "    print('The update was successful')\n",
    "else:\n",
    "    print('Status code %s' %update_param.status_code)"
   ]
  },
  {
   "cell_type": "code",
   "execution_count": null,
   "id": "5750e2bc",
   "metadata": {},
   "outputs": [],
   "source": [
    "# Verify that the value of youngsModulusE changed in the duplicate model\n",
    "mod_structures = get(\"v1/models/\" + mod_ID)['structures'] # get the list of updated structures\n",
    "\n",
    "str_youngsModulusE_after = mod_structures[str_index]['youngsModulusE'] # get the value\n",
    "print(str_youngsModulusE_after)"
   ]
  },
  {
   "cell_type": "code",
   "execution_count": null,
   "id": "78eff2e6",
   "metadata": {},
   "outputs": [],
   "source": [
    "# Analyse the model again with the new value\n",
    "mod_analysis = waitForAnalysis(mod_ID)"
   ]
  },
  {
   "cell_type": "code",
   "execution_count": null,
   "id": "ec62ae8d",
   "metadata": {},
   "outputs": [],
   "source": [
    "# Get nodes for the last stage in the modified model\n",
    "last_stage_mod_ID = mod_analysis[4]['id'] # last stage is at index 4\n",
    "last_results_mod = get(\"v1/models/\" + mod_ID + \"/stages/\" + last_stage_mod_ID + \"/results?type=default\")['nodes'] # get the nodes\n",
    "print(last_results_mod[0]) #print for the 0th node"
   ]
  },
  {
   "cell_type": "code",
   "execution_count": null,
   "id": "a5b4cb04",
   "metadata": {},
   "outputs": [],
   "source": [
    "# Plot bending moment for structural element nodes at the last stage of both models\n",
    "\n",
    "# For original model:\n",
    "orig_y_list = [] # new list for y positions (for plotting)\n",
    "orig_BM_list = [] # new list for bending moment values (for plotting)\n",
    "\n",
    "for i in last_results_orig: # loop through all nodes at the final stage\n",
    "    if i['bendingMoment'] != None: # consider only the nodes of structural elements, i.e. with non-None bendingMoment values\n",
    "        y = i['y'] # get the y position of the node\n",
    "        orig_y_list.append(y) # add value to the y list\n",
    "        BM = i['bendingMoment'] # get the bending moment value\n",
    "        orig_BM_list.append(BM) # add it to the bending moment list\n",
    "        BMM = max(BM, key = abs)\n",
    "\n",
    "# Repeat for modified model:\n",
    "mod_y_list = []\n",
    "mod_BM_list = []\n",
    "\n",
    "for i in last_results_mod:\n",
    "    if i['bendingMoment'] != None: \n",
    "        y = i['y'] \n",
    "        mod_y_list.append(y)\n",
    "        BM = i['bendingMoment']\n",
    "        mod_BM_list.append(BM)\n",
    "\n",
    "# Plotting:       \n",
    "plt.scatter(orig_BM_list, orig_y_list, color = '#82064F', label = 'Original') # plot bending moment for original model\n",
    "plt.scatter(mod_BM_list, mod_y_list, color = '#0095B6', label = 'Modified') # plot bending moment for modified model\n",
    "\n",
    "plt.legend() # add the legend\n",
    "plt.xlabel('BM (kN*m)') # label x-axis\n",
    "plt.ylabel('Y position (m)') # label y-axis\n",
    "plt.show() # show the graph"
   ]
  },
  {
   "attachments": {},
   "cell_type": "markdown",
   "id": "5e11533d",
   "metadata": {},
   "source": [
    "**2.0 Carbon emission estimator bsaed on volume of concrete and steel**"
   ]
  },
  {
   "cell_type": "code",
   "execution_count": 7,
   "id": "68ceddee",
   "metadata": {},
   "outputs": [],
   "source": [
    "# define calculation of concrete volume\n",
    "def calculate_concrete_volume(diameter, length):\n",
    "    concrete_volume = length * (diameter ** 2) * math.pi / 4\n",
    "    return concrete_volume\n",
    "\n",
    "# function for selecting the appropriate steel diameter\n",
    "def round_number(steel_diameter, steel_list):\n",
    "    steel_diameter_fixed = round(steel_diameter)\n",
    "\n",
    "    if steel_diameter_fixed in steel_list:\n",
    "        return steel_diameter_fixed\n",
    "\n",
    "    steel_fixed = min(steel_list, key=lambda x: abs(x - steel_diameter_fixed))\n",
    "    return steel_fixed\n",
    "\n",
    "# define calculation of steel volume\n",
    "def calculate_steel_volume(bending_moment, diameter, length, yield_strength_steel, steel_list):\n",
    "    steel_area = bending_moment * 1000000 / (0.87 * diameter * 1000 * yield_strength_steel)\n",
    "    steel_diameter = pow(steel_area * 4 / (6 * math.pi), 0.5)\n",
    "    steel_diameter_fixed = round_number(steel_diameter, steel_list)\n",
    "    steel_area_fixed = 6 * (steel_diameter_fixed ** 2) * 3.1415 / (4 * 1000000)\n",
    "    steel_volume = steel_area_fixed * length\n",
    "    return steel_volume\n"
   ]
  },
  {
   "cell_type": "code",
   "execution_count": 11,
   "id": "5c5185f8",
   "metadata": {},
   "outputs": [
    {
     "ename": "PermissionError",
     "evalue": "[Errno 13] Permission denied: 'calculation.xlsx'",
     "output_type": "error",
     "traceback": [
      "\u001b[1;31m---------------------------------------------------------------------------\u001b[0m",
      "\u001b[1;31mPermissionError\u001b[0m                           Traceback (most recent call last)",
      "Cell \u001b[1;32mIn[11], line 2\u001b[0m\n\u001b[0;32m      1\u001b[0m \u001b[39m#input data from outside, example in excel here\u001b[39;00m\n\u001b[1;32m----> 2\u001b[0m df \u001b[39m=\u001b[39m pd\u001b[39m.\u001b[39;49mread_excel(\u001b[39m'\u001b[39;49m\u001b[39mcalculation.xlsx\u001b[39;49m\u001b[39m'\u001b[39;49m)\n\u001b[0;32m      3\u001b[0m bending_moment \u001b[39m=\u001b[39m df[\u001b[39m'\u001b[39m\u001b[39mA\u001b[39m\u001b[39m'\u001b[39m]\u001b[39m.\u001b[39mtolist() \u001b[39m# Maximum bending moment of the wall\u001b[39;00m\n\u001b[0;32m      4\u001b[0m diameter \u001b[39m=\u001b[39m df[\u001b[39m'\u001b[39m\u001b[39mB\u001b[39m\u001b[39m'\u001b[39m]\u001b[39m.\u001b[39mtolist()\n",
      "File \u001b[1;32md:\\Conda\\lib\\site-packages\\pandas\\util\\_decorators.py:211\u001b[0m, in \u001b[0;36mdeprecate_kwarg.<locals>._deprecate_kwarg.<locals>.wrapper\u001b[1;34m(*args, **kwargs)\u001b[0m\n\u001b[0;32m    209\u001b[0m     \u001b[39melse\u001b[39;00m:\n\u001b[0;32m    210\u001b[0m         kwargs[new_arg_name] \u001b[39m=\u001b[39m new_arg_value\n\u001b[1;32m--> 211\u001b[0m \u001b[39mreturn\u001b[39;00m func(\u001b[39m*\u001b[39margs, \u001b[39m*\u001b[39m\u001b[39m*\u001b[39mkwargs)\n",
      "File \u001b[1;32md:\\Conda\\lib\\site-packages\\pandas\\util\\_decorators.py:331\u001b[0m, in \u001b[0;36mdeprecate_nonkeyword_arguments.<locals>.decorate.<locals>.wrapper\u001b[1;34m(*args, **kwargs)\u001b[0m\n\u001b[0;32m    325\u001b[0m \u001b[39mif\u001b[39;00m \u001b[39mlen\u001b[39m(args) \u001b[39m>\u001b[39m num_allow_args:\n\u001b[0;32m    326\u001b[0m     warnings\u001b[39m.\u001b[39mwarn(\n\u001b[0;32m    327\u001b[0m         msg\u001b[39m.\u001b[39mformat(arguments\u001b[39m=\u001b[39m_format_argument_list(allow_args)),\n\u001b[0;32m    328\u001b[0m         \u001b[39mFutureWarning\u001b[39;00m,\n\u001b[0;32m    329\u001b[0m         stacklevel\u001b[39m=\u001b[39mfind_stack_level(),\n\u001b[0;32m    330\u001b[0m     )\n\u001b[1;32m--> 331\u001b[0m \u001b[39mreturn\u001b[39;00m func(\u001b[39m*\u001b[39margs, \u001b[39m*\u001b[39m\u001b[39m*\u001b[39mkwargs)\n",
      "File \u001b[1;32md:\\Conda\\lib\\site-packages\\pandas\\io\\excel\\_base.py:482\u001b[0m, in \u001b[0;36mread_excel\u001b[1;34m(io, sheet_name, header, names, index_col, usecols, squeeze, dtype, engine, converters, true_values, false_values, skiprows, nrows, na_values, keep_default_na, na_filter, verbose, parse_dates, date_parser, thousands, decimal, comment, skipfooter, convert_float, mangle_dupe_cols, storage_options)\u001b[0m\n\u001b[0;32m    480\u001b[0m \u001b[39mif\u001b[39;00m \u001b[39mnot\u001b[39;00m \u001b[39misinstance\u001b[39m(io, ExcelFile):\n\u001b[0;32m    481\u001b[0m     should_close \u001b[39m=\u001b[39m \u001b[39mTrue\u001b[39;00m\n\u001b[1;32m--> 482\u001b[0m     io \u001b[39m=\u001b[39m ExcelFile(io, storage_options\u001b[39m=\u001b[39;49mstorage_options, engine\u001b[39m=\u001b[39;49mengine)\n\u001b[0;32m    483\u001b[0m \u001b[39melif\u001b[39;00m engine \u001b[39mand\u001b[39;00m engine \u001b[39m!=\u001b[39m io\u001b[39m.\u001b[39mengine:\n\u001b[0;32m    484\u001b[0m     \u001b[39mraise\u001b[39;00m \u001b[39mValueError\u001b[39;00m(\n\u001b[0;32m    485\u001b[0m         \u001b[39m\"\u001b[39m\u001b[39mEngine should not be specified when passing \u001b[39m\u001b[39m\"\u001b[39m\n\u001b[0;32m    486\u001b[0m         \u001b[39m\"\u001b[39m\u001b[39man ExcelFile - ExcelFile already has the engine set\u001b[39m\u001b[39m\"\u001b[39m\n\u001b[0;32m    487\u001b[0m     )\n",
      "File \u001b[1;32md:\\Conda\\lib\\site-packages\\pandas\\io\\excel\\_base.py:1652\u001b[0m, in \u001b[0;36mExcelFile.__init__\u001b[1;34m(self, path_or_buffer, engine, storage_options)\u001b[0m\n\u001b[0;32m   1650\u001b[0m     ext \u001b[39m=\u001b[39m \u001b[39m\"\u001b[39m\u001b[39mxls\u001b[39m\u001b[39m\"\u001b[39m\n\u001b[0;32m   1651\u001b[0m \u001b[39melse\u001b[39;00m:\n\u001b[1;32m-> 1652\u001b[0m     ext \u001b[39m=\u001b[39m inspect_excel_format(\n\u001b[0;32m   1653\u001b[0m         content_or_path\u001b[39m=\u001b[39;49mpath_or_buffer, storage_options\u001b[39m=\u001b[39;49mstorage_options\n\u001b[0;32m   1654\u001b[0m     )\n\u001b[0;32m   1655\u001b[0m     \u001b[39mif\u001b[39;00m ext \u001b[39mis\u001b[39;00m \u001b[39mNone\u001b[39;00m:\n\u001b[0;32m   1656\u001b[0m         \u001b[39mraise\u001b[39;00m \u001b[39mValueError\u001b[39;00m(\n\u001b[0;32m   1657\u001b[0m             \u001b[39m\"\u001b[39m\u001b[39mExcel file format cannot be determined, you must specify \u001b[39m\u001b[39m\"\u001b[39m\n\u001b[0;32m   1658\u001b[0m             \u001b[39m\"\u001b[39m\u001b[39man engine manually.\u001b[39m\u001b[39m\"\u001b[39m\n\u001b[0;32m   1659\u001b[0m         )\n",
      "File \u001b[1;32md:\\Conda\\lib\\site-packages\\pandas\\io\\excel\\_base.py:1525\u001b[0m, in \u001b[0;36minspect_excel_format\u001b[1;34m(content_or_path, storage_options)\u001b[0m\n\u001b[0;32m   1522\u001b[0m \u001b[39mif\u001b[39;00m \u001b[39misinstance\u001b[39m(content_or_path, \u001b[39mbytes\u001b[39m):\n\u001b[0;32m   1523\u001b[0m     content_or_path \u001b[39m=\u001b[39m BytesIO(content_or_path)\n\u001b[1;32m-> 1525\u001b[0m \u001b[39mwith\u001b[39;00m get_handle(\n\u001b[0;32m   1526\u001b[0m     content_or_path, \u001b[39m\"\u001b[39;49m\u001b[39mrb\u001b[39;49m\u001b[39m\"\u001b[39;49m, storage_options\u001b[39m=\u001b[39;49mstorage_options, is_text\u001b[39m=\u001b[39;49m\u001b[39mFalse\u001b[39;49;00m\n\u001b[0;32m   1527\u001b[0m ) \u001b[39mas\u001b[39;00m handle:\n\u001b[0;32m   1528\u001b[0m     stream \u001b[39m=\u001b[39m handle\u001b[39m.\u001b[39mhandle\n\u001b[0;32m   1529\u001b[0m     stream\u001b[39m.\u001b[39mseek(\u001b[39m0\u001b[39m)\n",
      "File \u001b[1;32md:\\Conda\\lib\\site-packages\\pandas\\io\\common.py:865\u001b[0m, in \u001b[0;36mget_handle\u001b[1;34m(path_or_buf, mode, encoding, compression, memory_map, is_text, errors, storage_options)\u001b[0m\n\u001b[0;32m    856\u001b[0m         handle \u001b[39m=\u001b[39m \u001b[39mopen\u001b[39m(\n\u001b[0;32m    857\u001b[0m             handle,\n\u001b[0;32m    858\u001b[0m             ioargs\u001b[39m.\u001b[39mmode,\n\u001b[1;32m   (...)\u001b[0m\n\u001b[0;32m    861\u001b[0m             newline\u001b[39m=\u001b[39m\u001b[39m\"\u001b[39m\u001b[39m\"\u001b[39m,\n\u001b[0;32m    862\u001b[0m         )\n\u001b[0;32m    863\u001b[0m     \u001b[39melse\u001b[39;00m:\n\u001b[0;32m    864\u001b[0m         \u001b[39m# Binary mode\u001b[39;00m\n\u001b[1;32m--> 865\u001b[0m         handle \u001b[39m=\u001b[39m \u001b[39mopen\u001b[39;49m(handle, ioargs\u001b[39m.\u001b[39;49mmode)\n\u001b[0;32m    866\u001b[0m     handles\u001b[39m.\u001b[39mappend(handle)\n\u001b[0;32m    868\u001b[0m \u001b[39m# Convert BytesIO or file objects passed with an encoding\u001b[39;00m\n",
      "\u001b[1;31mPermissionError\u001b[0m: [Errno 13] Permission denied: 'calculation.xlsx'"
     ]
    }
   ],
   "source": [
    "#input data from outside, example in excel here\n",
    "df = pd.read_excel('calculation.xlsx', sheet_name='Sheet2')\n",
    "bending_moment = df['A'].tolist() # Maximum bending moment of the wall\n",
    "diameter = df['B'].tolist() # Diameter of the columns\n"
   ]
  },
  {
   "cell_type": "code",
   "execution_count": null,
   "id": "fdba2041",
   "metadata": {},
   "outputs": [],
   "source": [
    "\n",
    "length = 26 # variable of embedment length\n",
    "yield_strength_steel = 500 / 1.15 # partial factor for the strength of steel\n",
    "steel_list = [8, 10, 12, 16, 20, 25, 32, 40, 50]\n",
    "\n",
    "concrete_volume = []\n",
    "for data in diameter:   \n",
    "    result = calculate_concrete_volume(diameter, length)\n",
    "    concrete_volume.append (result)\n",
    "\n",
    "steel_volume = []\n",
    "for data in bending_moment:\n",
    "    result = calculate_steel_volume(bending_moment, diameter, length, yield_strength_steel, steel_list)\n",
    "    steel_volume.append (result)\n",
    "        \n",
    "#create dataframe for the result\n",
    "output_df = pd.DataFrame({'concrete volume': concrete_volume, 'steel volume': steel_volume})\n"
   ]
  },
  {
   "cell_type": "code",
   "execution_count": null,
   "id": "0147ff94",
   "metadata": {},
   "outputs": [],
   "source": [
    "#define carbon emission and cost\n",
    "def calculate_concrete_carbon_cost(concrete_volume, carbon_factor, cost_factor):\n",
    "    concrete_density = 2400 # kg per cubic\n",
    "    carbon_emission = concrete_volume * concrete_density * carbon_factor\n",
    "    cost = concrete_volume * concrete_density * cost_factor\n",
    "    concrete_carbon_cost = carbon_emission + cost\n",
    "    return concrete_carbon_cost\n",
    "\n",
    "def calculate_steel_carbon_cost(steel_volume, carbon_factor, cost_factor):\n",
    "    steel_density = 1500 # kg per cubic\n",
    "    carbon_emission = steel_volume * steel_density * carbon_factor\n",
    "    cost = steel_volume * steel_density * cost_factor\n",
    "    steel_carbon_cost = carbon_emission + cost\n",
    "    return steel_carbon_cost\n",
    "\n",
    "# Carbon factors for different materials and energy (in kilograms of CO2 per unit)\n",
    "carbon_factors = {\n",
    "    'CEM I': 860,\n",
    "    'Aggregate': 4,\n",
    "    'sand': 6,\n",
    "    'water': 0.149,\n",
    "    'bentonite': 539,\n",
    "    'steel_rebars': 1383.31,\n",
    "}\n",
    "\n",
    "# Cost factors for different materials (in pounds of cost per unit)\n",
    "cost_factors = {\n",
    "    'CEM I': 200,\n",
    "    'Aggregate': 10,\n",
    "    'sand': 10,\n",
    "    'water': 10,\n",
    "    'bentonite': 150,\n",
    "    'steel_rebars': 500,\n",
    "}\n",
    "#input data from design solution\n",
    "concrete_volume = []\n",
    "\n",
    "# example concrete and steel volumes\n",
    "concrete_volume = 100  # example value, replace with the actual concrete volume\n",
    "steel_volume = 50  # example value, replace with the actual steel volume\n",
    "\n",
    "total_carbon_cost = 0.0\n",
    "concrete_carbon_cost = 0.0\n",
    "steel_carbon_cost = 0.0\n",
    "\n",
    "# Calculate carbon cost for each material\n",
    "for material, carbon_factor in carbon_factors.items():\n",
    "    cost_factor = cost_factors.get(material, 0)\n",
    "\n",
    "    concrete_carbon_cost = calculate_concrete_carbon_cost(concrete_volume, carbon_factor, cost_factor)\n",
    "    steel_carbon_cost = calculate_steel_carbon_cost(steel_volume, carbon_factor, cost_factor)\n",
    "    total_carbon_cost += (concrete_carbon_cost + steel_carbon_cost)\n",
    "\n",
    "# Create DataFrame for visualization\n",
    "carbon = {\n",
    "    'material': ['concrete', 'steel'],\n",
    "    'carbon': [concrete_carbon_cost, steel_carbon_cost]\n",
    "}\n",
    "df = pd.DataFrame(carbon)\n",
    "\n",
    "# Plot the results\n",
    "plt.xlabel('Material')\n",
    "plt.ylabel('Carbon Cost')\n",
    "plt.title('Carbon Calculator')\n",
    "plt.bar(df['material'], df['carbon'])\n",
    "plt.show()\n",
    "\n",
    "\n",
    "\n",
    "\n"
   ]
  },
  {
   "cell_type": "code",
   "execution_count": null,
   "id": "b137c014",
   "metadata": {},
   "outputs": [],
   "source": [
    "from platypus import NSGAII, Problem, Real\n",
    "\n",
    "def carbon_serveciability(concrete_volume,steel_volume):\n",
    "    x = vars[0]\n",
    "    y = vars[1]\n",
    "    return [-2*x + y, 2*x + y], [-x + y - 1, x + y - 7]\n",
    "\n",
    "problem = Problem(2, 2, 2)"
   ]
  }
 ],
 "metadata": {
  "kernelspec": {
   "display_name": "Python 3 (ipykernel)",
   "language": "python",
   "name": "python3"
  },
  "language_info": {
   "codemirror_mode": {
    "name": "ipython",
    "version": 3
   },
   "file_extension": ".py",
   "mimetype": "text/x-python",
   "name": "python",
   "nbconvert_exporter": "python",
   "pygments_lexer": "ipython3",
   "version": "3.10.9"
  }
 },
 "nbformat": 4,
 "nbformat_minor": 5
}
