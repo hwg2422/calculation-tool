{
 "cells": [
  {
   "cell_type": "markdown",
   "metadata": {},
   "source": [
    "MARKDOWN"
   ]
  },
  {
   "cell_type": "markdown",
   "metadata": {},
   "source": [
    "Importing necessary libraries"
   ]
  },
  {
   "cell_type": "code",
   "execution_count": 27,
   "metadata": {},
   "outputs": [],
   "source": [
    "import matplotlib.pyplot as plt\n",
    "import pandas as pd\n",
    "import math\n",
    "import numpy as np"
   ]
  },
  {
   "cell_type": "markdown",
   "metadata": {},
   "source": [
    "Custom Functions"
   ]
  },
  {
   "cell_type": "code",
   "execution_count": 60,
   "metadata": {},
   "outputs": [],
   "source": [
    "# define calculation of concrete volume\n",
    "def calculate_concrete_volume(diameter, length):\n",
    "    concrete_volume = length * (diameter ** 2) * math.pi / 4\n",
    "    return concrete_volume\n",
    "\n",
    "# function for selecting the appropriate steel diameter\n",
    "def round_number(steel_diameter, steel_list):\n",
    "    steel_diameter_fixed = round(steel_diameter)\n",
    "\n",
    "    if steel_diameter_fixed in steel_list:\n",
    "        return steel_diameter_fixed\n",
    "\n",
    "    steel_fixed = min(steel_list, key=lambda x: abs(x - steel_diameter_fixed))\n",
    "    return steel_fixed\n",
    "\n",
    "# define calculation of steel volume\n",
    "def calculate_steel_volume(bending_moment, diameter, length, yield_strength_steel, steel_list):\n",
    "    steel_area = bending_moment * 1000000 / (0.87 * diameter * 1000 * yield_strength_steel)\n",
    "    steel_diameter = pow(steel_area * 4 / (6 * math.pi), 0.5)\n",
    "    steel_diameter_fixed = round_number(steel_diameter, steel_list)\n",
    "    steel_area_fixed = 6 * (steel_diameter_fixed ** 2) * math.pi / (4 * 1000000)\n",
    "    steel_volume = steel_area_fixed * length\n",
    "    return steel_volume\n",
    "\n",
    "#define carbon emission and cost\n",
    "def calculate_concrete_carbon_cost(concrete_volume, material_density, carbon_factor, cost_factor):\n",
    "    carbon_emission = concrete_volume * material_density * carbon_factor\n",
    "    cost = concrete_volume * material_density * cost_factor \n",
    "    concrete_carbon_cost = carbon_emission + cost\n",
    "    return concrete_carbon_cost\n",
    "\n",
    "def calculate_steel_carbon_cost(steel_volume):\n",
    "    steel_density = 1500 #kg per cubic\n",
    "    carbon_factor = 1383.31\n",
    "    cost_factor = 500\n",
    "    s_carbon_emission = steel_volume * steel_density * carbon_factor\n",
    "    s_cost = steel_volume * steel_density * cost_factor\n",
    "    steel_carbon_cost = s_carbon_emission + s_cost\n",
    "    return steel_carbon_cost\n"
   ]
  },
  {
   "cell_type": "markdown",
   "metadata": {},
   "source": [
    "Carbon Cost Material Dictionaries"
   ]
  },
  {
   "cell_type": "code",
   "execution_count": 61,
   "metadata": {},
   "outputs": [],
   "source": [
    "# Carbon factors for different materials and energy (in kilograms of CO2 per unit)\n",
    "carbon_factors = {\n",
    "    'CEM I': 860,\n",
    "    'Aggregate': 4,\n",
    "    'sand': 6,\n",
    "    'water': 0.149,\n",
    "    'bentonite': 539,\n",
    "}\n",
    "\n",
    "# Cost factors for different materials (in pounds of cost per unit)\n",
    "cost_factors = {\n",
    "    'CEM I': 200,\n",
    "    'Aggregate': 10,\n",
    "    'sand': 10,\n",
    "    'water': 10,\n",
    "    'bentonite': 150,\n",
    "}\n",
    "\n",
    "# density for different materials (in kg per cubic)\n",
    "material_densities = {\n",
    "    'CEM I': 400,\n",
    "    'Aggregate':900,\n",
    "    'Sand': 800,\n",
    "    'Water': 100,\n",
    "    'bentonite':600,\n",
    "}"
   ]
  },
  {
   "cell_type": "markdown",
   "metadata": {},
   "source": [
    "Importing data and manual parameter specification"
   ]
  },
  {
   "cell_type": "code",
   "execution_count": 45,
   "metadata": {},
   "outputs": [
    {
     "name": "stdout",
     "output_type": "stream",
     "text": [
      "Index(['A', 'B'], dtype='object')\n"
     ]
    }
   ],
   "source": [
    "#input data from outside, example in excel here\n",
    "df = pd.read_excel('Book1.xlsx')\n",
    "print(df.columns)\n",
    "length = 26 # variable of embedment length\n",
    "yield_strength_steel = 500 / 1.15 # partial factor for the strength of steel\n",
    "steel_list = [8, 10, 12, 16, 20, 25, 32, 40, 50]"
   ]
  },
  {
   "cell_type": "markdown",
   "metadata": {},
   "source": [
    "Calculations for steel and concrete volume"
   ]
  },
  {
   "cell_type": "code",
   "execution_count": 53,
   "metadata": {},
   "outputs": [
    {
     "data": {
      "text/html": [
       "<div>\n",
       "<style scoped>\n",
       "    .dataframe tbody tr th:only-of-type {\n",
       "        vertical-align: middle;\n",
       "    }\n",
       "\n",
       "    .dataframe tbody tr th {\n",
       "        vertical-align: top;\n",
       "    }\n",
       "\n",
       "    .dataframe thead th {\n",
       "        text-align: right;\n",
       "    }\n",
       "</style>\n",
       "<table border=\"1\" class=\"dataframe\">\n",
       "  <thead>\n",
       "    <tr style=\"text-align: right;\">\n",
       "      <th></th>\n",
       "      <th>concrete volume</th>\n",
       "      <th>steel volume</th>\n",
       "    </tr>\n",
       "  </thead>\n",
       "  <tbody>\n",
       "    <tr>\n",
       "      <th>0</th>\n",
       "      <td>29.405307</td>\n",
       "      <td>0.049009</td>\n",
       "    </tr>\n",
       "    <tr>\n",
       "      <th>1</th>\n",
       "      <td>20.420352</td>\n",
       "      <td>0.049009</td>\n",
       "    </tr>\n",
       "    <tr>\n",
       "      <th>2</th>\n",
       "      <td>13.069025</td>\n",
       "      <td>0.031366</td>\n",
       "    </tr>\n",
       "    <tr>\n",
       "      <th>3</th>\n",
       "      <td>10.005973</td>\n",
       "      <td>0.031366</td>\n",
       "    </tr>\n",
       "    <tr>\n",
       "      <th>4</th>\n",
       "      <td>7.351327</td>\n",
       "      <td>0.031366</td>\n",
       "    </tr>\n",
       "    <tr>\n",
       "      <th>5</th>\n",
       "      <td>5.105088</td>\n",
       "      <td>0.031366</td>\n",
       "    </tr>\n",
       "    <tr>\n",
       "      <th>6</th>\n",
       "      <td>3.267256</td>\n",
       "      <td>0.031366</td>\n",
       "    </tr>\n",
       "  </tbody>\n",
       "</table>\n",
       "</div>"
      ],
      "text/plain": [
       "   concrete volume  steel volume\n",
       "0        29.405307      0.049009\n",
       "1        20.420352      0.049009\n",
       "2        13.069025      0.031366\n",
       "3        10.005973      0.031366\n",
       "4         7.351327      0.031366\n",
       "5         5.105088      0.031366\n",
       "6         3.267256      0.031366"
      ]
     },
     "execution_count": 53,
     "metadata": {},
     "output_type": "execute_result"
    }
   ],
   "source": [
    "bending_moment = df['A'] # Maximum bending moment of the wall\n",
    "diameter = df['B'] # Diameter of the columns\n",
    "\n",
    "concrete_volume = []\n",
    "for i in range(len(diameter)):   \n",
    "    result = calculate_concrete_volume(diameter[i], length)\n",
    "    concrete_volume.append (result)\n",
    "\n",
    "steel_volume = []\n",
    "for i in range(len(bending_moment)):\n",
    "    result = calculate_steel_volume(bending_moment[i], diameter[i], length, yield_strength_steel, steel_list)\n",
    "    steel_volume.append (result)\n",
    "    \n",
    "#create dataframe for the result\n",
    "output_df = pd.DataFrame({'concrete volume': concrete_volume, 'steel volume': steel_volume})\n",
    "output_df\n"
   ]
  },
  {
   "cell_type": "code",
   "execution_count": 69,
   "metadata": {},
   "outputs": [
    {
     "data": {
      "text/html": [
       "<div>\n",
       "<style scoped>\n",
       "    .dataframe tbody tr th:only-of-type {\n",
       "        vertical-align: middle;\n",
       "    }\n",
       "\n",
       "    .dataframe tbody tr th {\n",
       "        vertical-align: top;\n",
       "    }\n",
       "\n",
       "    .dataframe thead th {\n",
       "        text-align: right;\n",
       "    }\n",
       "</style>\n",
       "<table border=\"1\" class=\"dataframe\">\n",
       "  <thead>\n",
       "    <tr style=\"text-align: right;\">\n",
       "      <th></th>\n",
       "      <th>concrete</th>\n",
       "      <th>steel</th>\n",
       "    </tr>\n",
       "  </thead>\n",
       "  <tbody>\n",
       "    <tr>\n",
       "      <th>0</th>\n",
       "      <td>1.215615e+07</td>\n",
       "      <td>138448.272934</td>\n",
       "    </tr>\n",
       "    <tr>\n",
       "      <th>1</th>\n",
       "      <td>8.441774e+06</td>\n",
       "      <td>138448.272934</td>\n",
       "    </tr>\n",
       "    <tr>\n",
       "      <th>2</th>\n",
       "      <td>5.402735e+06</td>\n",
       "      <td>88606.894678</td>\n",
       "    </tr>\n",
       "    <tr>\n",
       "      <th>3</th>\n",
       "      <td>4.136469e+06</td>\n",
       "      <td>88606.894678</td>\n",
       "    </tr>\n",
       "    <tr>\n",
       "      <th>4</th>\n",
       "      <td>3.039039e+06</td>\n",
       "      <td>88606.894678</td>\n",
       "    </tr>\n",
       "    <tr>\n",
       "      <th>5</th>\n",
       "      <td>2.110443e+06</td>\n",
       "      <td>88606.894678</td>\n",
       "    </tr>\n",
       "    <tr>\n",
       "      <th>6</th>\n",
       "      <td>1.350684e+06</td>\n",
       "      <td>88606.894678</td>\n",
       "    </tr>\n",
       "  </tbody>\n",
       "</table>\n",
       "</div>"
      ],
      "text/plain": [
       "       concrete          steel\n",
       "0  1.215615e+07  138448.272934\n",
       "1  8.441774e+06  138448.272934\n",
       "2  5.402735e+06   88606.894678\n",
       "3  4.136469e+06   88606.894678\n",
       "4  3.039039e+06   88606.894678\n",
       "5  2.110443e+06   88606.894678\n",
       "6  1.350684e+06   88606.894678"
      ]
     },
     "execution_count": 69,
     "metadata": {},
     "output_type": "execute_result"
    }
   ],
   "source": [
    "total_carbon_cost = 0.0\n",
    "\n",
    "# Make data into array\n",
    "concrete_volume = np.array(concrete_volume)\n",
    "steel_volume = np.array(steel_volume)\n",
    "\n",
    "# Calculate carbon cost for each material\n",
    "for material, carbon_factor in carbon_factors.items():\n",
    "    carbon_factor = carbon_factors.get(material, 0)\n",
    "    cost_factor = cost_factors.get(material, 0)\n",
    "    material_density = material_densities.get(material,0)\n",
    "    \n",
    "concrete_carbon_cost = calculate_concrete_carbon_cost(concrete_volume, material_density, carbon_factor, cost_factor)\n",
    "steel_carbon_cost = calculate_steel_carbon_cost(steel_volume)\n",
    "total_carbon_cost = (concrete_carbon_cost + steel_carbon_cost)\n",
    "\n",
    "# Create DataFrame for visualization\n",
    "output_df2 = pd.DataFrame({'concrete': concrete_carbon_cost,'steel': steel_carbon_cost})\n",
    "output_df2 \n"
   ]
  },
  {
   "cell_type": "code",
   "execution_count": null,
   "metadata": {},
   "outputs": [],
   "source": []
  }
 ],
 "metadata": {
  "kernelspec": {
   "display_name": "Python 3 (ipykernel)",
   "language": "python",
   "name": "python3"
  },
  "language_info": {
   "codemirror_mode": {
    "name": "ipython",
    "version": 3
   },
   "file_extension": ".py",
   "mimetype": "text/x-python",
   "name": "python",
   "nbconvert_exporter": "python",
   "pygments_lexer": "ipython3",
   "version": "3.10.9"
  }
 },
 "nbformat": 4,
 "nbformat_minor": 2
}
