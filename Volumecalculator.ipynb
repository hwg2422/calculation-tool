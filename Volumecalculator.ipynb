{
 "cells": [
  {
   "attachments": {},
   "cell_type": "markdown",
   "metadata": {},
   "source": [
    "MARKDOWN"
   ]
  },
  {
   "attachments": {},
   "cell_type": "markdown",
   "metadata": {},
   "source": [
    "Importing necessary libraries"
   ]
  },
  {
   "cell_type": "code",
   "execution_count": 45,
   "metadata": {},
   "outputs": [],
   "source": [
    "import matplotlib.pyplot as plt\n",
    "import pandas as pd\n",
    "import math"
   ]
  },
  {
   "attachments": {},
   "cell_type": "markdown",
   "metadata": {},
   "source": [
    "Custom Functions"
   ]
  },
  {
   "cell_type": "code",
   "execution_count": 46,
   "metadata": {},
   "outputs": [],
   "source": [
    "# define calculation of concrete volume\n",
    "def calculate_concrete_volume(diameter, length):\n",
    "    concrete_volume = length * (diameter ** 2) * math.pi / 4\n",
    "    return concrete_volume\n",
    "\n",
    "# function for selecting the appropriate steel diameter\n",
    "def round_number(steel_diameter, steel_list):\n",
    "    steel_diameter_fixed = round(steel_diameter)\n",
    "\n",
    "    if steel_diameter_fixed in steel_list:\n",
    "        return steel_diameter_fixed\n",
    "\n",
    "    steel_fixed = min(steel_list, key=lambda x: abs(x - steel_diameter_fixed))\n",
    "    return steel_fixed\n",
    "\n",
    "# define calculation of steel volume\n",
    "def calculate_steel_volume(bending_moment, diameter, length, yield_strength_steel, steel_list):\n",
    "    steel_area = bending_moment * 1000000 / (0.87 * diameter * 1000 * yield_strength_steel)\n",
    "    steel_diameter = pow(steel_area * 4 / (6 * math.pi), 0.5)\n",
    "    steel_diameter_fixed = round_number(steel_diameter, steel_list)\n",
    "    steel_area_fixed = 6 * (steel_diameter_fixed ** 2) * math.pi / (4 * 1000000)\n",
    "    steel_volume = steel_area_fixed * length\n",
    "    return steel_volume\n",
    "\n",
    "#define carbon emission and cost\n",
    "def calculate_concrete_carbon_cost(concrete_volume, carbon_factor, cost_factor):\n",
    "    concrete_density = 2400 # kg per cubic\n",
    "    carbon_emission = concrete_volume * concrete_density * carbon_factor\n",
    "    cost = concrete_volume * concrete_density * cost_factor\n",
    "    concrete_carbon_cost = carbon_emission + cost\n",
    "    return concrete_carbon_cost\n",
    "\n",
    "def calculate_steel_carbon_cost(steel_volume, carbon_factor, cost_factor):\n",
    "    steel_density = 1500 # kg per cubic\n",
    "    carbon_emission = steel_volume * steel_density * carbon_factor\n",
    "    cost = steel_volume * steel_density * cost_factor\n",
    "    steel_carbon_cost = carbon_emission + cost\n",
    "    return steel_carbon_cost\n"
   ]
  },
  {
   "attachments": {},
   "cell_type": "markdown",
   "metadata": {},
   "source": [
    "Carbon Cost Material Dictionaries"
   ]
  },
  {
   "cell_type": "code",
   "execution_count": null,
   "metadata": {},
   "outputs": [],
   "source": [
    "# Carbon factors for different materials and energy (in kilograms of CO2 per unit)\n",
    "carbon_factors = {\n",
    "    'CEM I': 860,\n",
    "    'Aggregate': 4,\n",
    "    'sand': 6,\n",
    "    'water': 0.149,\n",
    "    'bentonite': 539,\n",
    "    'steel_rebars': 1383.31,\n",
    "}\n",
    "\n",
    "# Cost factors for different materials (in pounds of cost per unit)\n",
    "cost_factors = {\n",
    "    'CEM I': 200,\n",
    "    'Aggregate': 10,\n",
    "    'sand': 10,\n",
    "    'water': 10,\n",
    "    'bentonite': 150,\n",
    "    'steel_rebars': 500,\n",
    "}\n"
   ]
  },
  {
   "attachments": {},
   "cell_type": "markdown",
   "metadata": {},
   "source": [
    "Importing data and manual parameter specification"
   ]
  },
  {
   "cell_type": "code",
   "execution_count": 47,
   "metadata": {},
   "outputs": [],
   "source": [
    "#input data from outside, example in excel here\n",
    "df = pd.read_excel('calculation.xls')\n",
    "\n",
    "length = 26 # variable of embedment length\n",
    "yield_strength_steel = 500 / 1.15 # partial factor for the strength of steel\n",
    "steel_list = [8, 10, 12, 16, 20, 25, 32, 40, 50]"
   ]
  },
  {
   "attachments": {},
   "cell_type": "markdown",
   "metadata": {},
   "source": [
    "Calculations for steel and concrete volume"
   ]
  },
  {
   "cell_type": "code",
   "execution_count": 50,
   "metadata": {},
   "outputs": [
    {
     "data": {
      "text/html": [
       "<div>\n",
       "<style scoped>\n",
       "    .dataframe tbody tr th:only-of-type {\n",
       "        vertical-align: middle;\n",
       "    }\n",
       "\n",
       "    .dataframe tbody tr th {\n",
       "        vertical-align: top;\n",
       "    }\n",
       "\n",
       "    .dataframe thead th {\n",
       "        text-align: right;\n",
       "    }\n",
       "</style>\n",
       "<table border=\"1\" class=\"dataframe\">\n",
       "  <thead>\n",
       "    <tr style=\"text-align: right;\">\n",
       "      <th></th>\n",
       "      <th>concrete volume</th>\n",
       "      <th>steel volume</th>\n",
       "    </tr>\n",
       "  </thead>\n",
       "  <tbody>\n",
       "    <tr>\n",
       "      <th>0</th>\n",
       "      <td>29.405307</td>\n",
       "      <td>0.049009</td>\n",
       "    </tr>\n",
       "    <tr>\n",
       "      <th>1</th>\n",
       "      <td>20.420352</td>\n",
       "      <td>0.049009</td>\n",
       "    </tr>\n",
       "    <tr>\n",
       "      <th>2</th>\n",
       "      <td>13.069025</td>\n",
       "      <td>0.031366</td>\n",
       "    </tr>\n",
       "    <tr>\n",
       "      <th>3</th>\n",
       "      <td>10.005973</td>\n",
       "      <td>0.031366</td>\n",
       "    </tr>\n",
       "    <tr>\n",
       "      <th>4</th>\n",
       "      <td>7.351327</td>\n",
       "      <td>0.031366</td>\n",
       "    </tr>\n",
       "    <tr>\n",
       "      <th>5</th>\n",
       "      <td>5.105088</td>\n",
       "      <td>0.031366</td>\n",
       "    </tr>\n",
       "    <tr>\n",
       "      <th>6</th>\n",
       "      <td>3.267256</td>\n",
       "      <td>0.031366</td>\n",
       "    </tr>\n",
       "  </tbody>\n",
       "</table>\n",
       "</div>"
      ],
      "text/plain": [
       "   concrete volume  steel volume\n",
       "0        29.405307      0.049009\n",
       "1        20.420352      0.049009\n",
       "2        13.069025      0.031366\n",
       "3        10.005973      0.031366\n",
       "4         7.351327      0.031366\n",
       "5         5.105088      0.031366\n",
       "6         3.267256      0.031366"
      ]
     },
     "execution_count": 50,
     "metadata": {},
     "output_type": "execute_result"
    }
   ],
   "source": [
    "bending_moment = df[\"A\"] # Maximum bending moment of the wall\n",
    "diameter = df[\"B\"] # Diameter of the columns\n",
    "\n",
    "concrete_volume = []\n",
    "for i in range(len(diameter)):   \n",
    "    result = calculate_concrete_volume(diameter[i], length)\n",
    "    concrete_volume.append (result)\n",
    "\n",
    "steel_volume = []\n",
    "for i in range(len(bending_moment)):\n",
    "    result = calculate_steel_volume(bending_moment[i], diameter[i], length, yield_strength_steel, steel_list)\n",
    "    steel_volume.append (result)\n",
    "    \n",
    "#create dataframe for the result\n",
    "output_df = pd.DataFrame({'concrete volume': concrete_volume, 'steel volume': steel_volume})\n",
    "output_df\n"
   ]
  },
  {
   "cell_type": "code",
   "execution_count": null,
   "metadata": {},
   "outputs": [],
   "source": [
    "total_carbon_cost = 0.0\n",
    "concrete_carbon_cost = 0.0\n",
    "steel_carbon_cost = 0.0\n",
    "\n",
    "# Calculate carbon cost for each material\n",
    "for material, carbon_factor in carbon_factors.items():\n",
    "    cost_factor = cost_factors.get(material, 0)\n",
    "\n",
    "    concrete_carbon_cost = calculate_concrete_carbon_cost(concrete_volume, carbon_factor, cost_factor)\n",
    "    steel_carbon_cost = calculate_steel_carbon_cost(steel_volume, carbon_factor, cost_factor)\n",
    "    total_carbon_cost += (concrete_carbon_cost + steel_carbon_cost)\n",
    "\n",
    "# Create DataFrame for visualization\n",
    "carbon = {\n",
    "    'material': ['concrete', 'steel'],\n",
    "    'carbon': [concrete_carbon_cost, steel_carbon_cost]\n",
    "}\n",
    "df = pd.DataFrame(carbon)\n",
    "\n",
    "# Plot the results\n",
    "plt.xlabel('Material')\n",
    "plt.ylabel('Carbon Cost')\n",
    "plt.title('Carbon Calculator')\n",
    "plt.bar(df['material'], df['carbon'])\n",
    "plt.show()"
   ]
  },
  {
   "cell_type": "code",
   "execution_count": null,
   "metadata": {},
   "outputs": [],
   "source": []
  }
 ],
 "metadata": {
  "kernelspec": {
   "display_name": "base",
   "language": "python",
   "name": "python3"
  },
  "language_info": {
   "codemirror_mode": {
    "name": "ipython",
    "version": 3
   },
   "file_extension": ".py",
   "mimetype": "text/x-python",
   "name": "python",
   "nbconvert_exporter": "python",
   "pygments_lexer": "ipython3",
   "version": "3.10.9"
  },
  "orig_nbformat": 4
 },
 "nbformat": 4,
 "nbformat_minor": 2
}
